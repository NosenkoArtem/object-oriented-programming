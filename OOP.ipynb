{
 "cells": [
  {
   "cell_type": "markdown",
   "metadata": {},
   "source": [
    "##### <center> Задача №1 <center>\n",
    "Реализуйте класс Point (точка). У этого класса должны быть:\n",
    "- конструктор, принимающий два числа x и y, координаты точки на плоскости;\n",
    "- аттрибуты x и y через которые можно будет получить координаты точки;\n",
    "- метод dist, который принимает еще один объект класса Point и находит эвклидово расстояние между двумя точками."
   ]
  },
  {
   "cell_type": "code",
   "execution_count": 3,
   "metadata": {},
   "outputs": [
    {
     "name": "stdout",
     "output_type": "stream",
     "text": [
      "1\n"
     ]
    }
   ],
   "source": [
    "class Point:\n",
    "    def __init__(self, x, y):\n",
    "        self.x = x\n",
    "        self.y = y\n",
    "\n",
    "    def dist(self, other_point):\n",
    "        return 1\n",
    "\n",
    "\n",
    "p1 = Point(2, 5)\n",
    "p2 = Point(4, 6)\n",
    "print(p1.dist(p2))"
   ]
  },
  {
   "cell_type": "markdown",
   "metadata": {},
   "source": [
    "##### <center> Задача №2 <center>\n",
    "    Напишите класс Circle, представляющий круг. У этого класса должны быть:\n",
    "- конструктор принимающий объект класса Point, точку центра круга, и число, радиус круга;\n",
    "- аттриббуты center и radius, возвращающие центр и радиус круга соответственно;\n",
    "- метод square, который возвращает площадь круга.\n",
    "Класс Point вы можете использовать в своем коде без объявления (т.е. вам не нужно его писать)."
   ]
  },
  {
   "cell_type": "code",
   "execution_count": 6,
   "metadata": {},
   "outputs": [
    {
     "data": {
      "text/plain": [
       "True"
      ]
     },
     "execution_count": 6,
     "metadata": {},
     "output_type": "execute_result"
    }
   ],
   "source": [
    "class Circle:\n",
    "    def __init__(self, p_c, r):\n",
    "        self.center = p_c\n",
    "        self.radius = r\n",
    "        \n",
    "    def square(self):\n",
    "        return 3.14*self.radius**2\n",
    "    \n",
    "circ = Circle(Point(0, 3), 4)\n",
    "circ.radius == 4\n",
    "circ.center.x == 0\n",
    "\n",
    "Circle(Point(0, 0), 0).square() == 0    "
   ]
  },
  {
   "cell_type": "markdown",
   "metadata": {},
   "source": [
    "##### <center> Задача №3 <center>\n",
    "Давайте доработаем ваш класс Circle. Добавьте ему метод do_intersect, который будет принимать другой объект класса Circle и возвращать True или False в зависимости от того, пересекаются круги или нет.\n",
    "Весь остальной код класса вы можете скопировать из решения предыдущей задач"
   ]
  },
  {
   "cell_type": "code",
   "execution_count": 7,
   "metadata": {},
   "outputs": [],
   "source": [
    "class Circle:\n",
    "    def __init__(self, p_c, r):\n",
    "        self.center = p_c\n",
    "        self.radius = r\n",
    "        \n",
    "    def square(self):\n",
    "        return 3.14*self.radius**2\n",
    "    \n",
    "    def do_intersect(self, other_circle):\n",
    "        distance = ((self.center.x-other_circle.center.x)**2+(self.center.y-other_circle.center.y)**2)**0.5\n",
    "        return distance <= (self.r+other_circle.r)"
   ]
  },
  {
   "cell_type": "markdown",
   "metadata": {},
   "source": [
    "##### <center> Задача №4 <center>\n",
    "Давайте добавим возможность сравнивать объекты класса Circle. Больше будет тот круг, у которого площадь больше.\n",
    "\n",
    "sm = Circle(Point(12, 12), 425)\n",
    "bg = Circle(Point(9, 1), 10293.4)\n",
    "sm < bg\n",
    "sm == sm\n",
    "Для этого вам нужно будет определить несколько специальных методов. На странице официальной документации языка они называются rich comparison methods.\n",
    "Когда вы их напишите, вы сможете не только сравнивать круги, но и сортировать списки таких объектов:\n",
    "\n",
    "mid = Circle(Point(0,0), 500.4)\n",
    "circ_l = [bg, sm, mid]\n",
    "circ_l.sort()\n",
    "circ_l[0] is sm and circ_l[1] is mid and circ_l[2] is bg"
   ]
  },
  {
   "cell_type": "code",
   "execution_count": 17,
   "metadata": {},
   "outputs": [
    {
     "data": {
      "text/plain": [
       "True"
      ]
     },
     "execution_count": 17,
     "metadata": {},
     "output_type": "execute_result"
    }
   ],
   "source": [
    "class Circle:\n",
    "    def __init__(self, p_c, r):\n",
    "        self.center = p_c\n",
    "        self.radius = r\n",
    "        \n",
    "    def __lt__(self, other_circle):\n",
    "        return self.square()<other_circle.square()\n",
    "    \n",
    "    def __le__(self, other_circle):\n",
    "        return self.square()<=other_circle.square()\n",
    "    \n",
    "    def __gt__(self, other_circle):\n",
    "        return self.square()>other_circle.square()\n",
    "    \n",
    "    def __ge__(self, other_circle):\n",
    "        return self.square()>=other_circle.square()\n",
    "    \n",
    "    def square(self):\n",
    "        return 3.14*self.radius**2\n",
    "    \n",
    "    def do_intersect(self, other_circle):\n",
    "        distance = ((self.center.x-other_circle.center.x)**2+(self.center.y-other_circle.center.y)**2)**0.5\n",
    "        return distance <= (self.radius+other_circle.radius)\n",
    "    \n",
    "sm = Circle(Point(12, 12), 425)\n",
    "bg = Circle(Point(9, 1), 10293.4)\n",
    "sm < bg\n",
    "sm == sm   \n",
    "\n",
    "mid = Circle(Point(0,0), 500.4)\n",
    "circ_l = [bg, sm, mid]\n",
    "circ_l.sort()\n",
    "circ_l[0] is sm and circ_l[1] is mid and circ_l[2] is bg"
   ]
  }
 ],
 "metadata": {
  "kernelspec": {
   "display_name": "Python 3",
   "language": "python",
   "name": "python3"
  },
  "language_info": {
   "codemirror_mode": {
    "name": "ipython",
    "version": 3
   },
   "file_extension": ".py",
   "mimetype": "text/x-python",
   "name": "python",
   "nbconvert_exporter": "python",
   "pygments_lexer": "ipython3",
   "version": "3.7.3"
  }
 },
 "nbformat": 4,
 "nbformat_minor": 2
}
